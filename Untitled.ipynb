{
 "cells": [
  {
   "cell_type": "code",
   "execution_count": 1,
   "id": "34768f7f-9802-4e32-b1ed-c484b3251518",
   "metadata": {},
   "outputs": [],
   "source": [
    "import pandas as pd\n",
    "import numpy as np\n",
    "import matplotlib.pyplot as plt\n",
    "import seaborn as sns"
   ]
  },
  {
   "cell_type": "code",
   "execution_count": 2,
   "id": "7087840b-07e5-41ff-a5f8-d586072d516e",
   "metadata": {},
   "outputs": [],
   "source": [
    "sms = pd.read_excel('SMSSpamCollection.xlsx',header=None)"
   ]
  },
  {
   "cell_type": "code",
   "execution_count": 3,
   "id": "33e13345-9182-4430-b887-19452ec1ca16",
   "metadata": {},
   "outputs": [
    {
     "data": {
      "text/html": [
       "<div>\n",
       "<style scoped>\n",
       "    .dataframe tbody tr th:only-of-type {\n",
       "        vertical-align: middle;\n",
       "    }\n",
       "\n",
       "    .dataframe tbody tr th {\n",
       "        vertical-align: top;\n",
       "    }\n",
       "\n",
       "    .dataframe thead th {\n",
       "        text-align: right;\n",
       "    }\n",
       "</style>\n",
       "<table border=\"1\" class=\"dataframe\">\n",
       "  <thead>\n",
       "    <tr style=\"text-align: right;\">\n",
       "      <th></th>\n",
       "      <th>0</th>\n",
       "      <th>1</th>\n",
       "      <th>2</th>\n",
       "      <th>3</th>\n",
       "      <th>4</th>\n",
       "      <th>5</th>\n",
       "      <th>6</th>\n",
       "      <th>7</th>\n",
       "      <th>8</th>\n",
       "      <th>9</th>\n",
       "      <th>10</th>\n",
       "      <th>11</th>\n",
       "      <th>12</th>\n",
       "      <th>13</th>\n",
       "    </tr>\n",
       "  </thead>\n",
       "  <tbody>\n",
       "    <tr>\n",
       "      <th>0</th>\n",
       "      <td>ham\\tGo until jurong point</td>\n",
       "      <td>crazy.. Available only in bugis n great world...</td>\n",
       "      <td>NaN</td>\n",
       "      <td>NaN</td>\n",
       "      <td>NaN</td>\n",
       "      <td>NaN</td>\n",
       "      <td>NaN</td>\n",
       "      <td>NaN</td>\n",
       "      <td>NaN</td>\n",
       "      <td>NaN</td>\n",
       "      <td>NaN</td>\n",
       "      <td>NaN</td>\n",
       "      <td>NaN</td>\n",
       "      <td>NaN</td>\n",
       "    </tr>\n",
       "    <tr>\n",
       "      <th>1</th>\n",
       "      <td>ham\\tOk lar... Joking wif u oni...</td>\n",
       "      <td>NaN</td>\n",
       "      <td>NaN</td>\n",
       "      <td>NaN</td>\n",
       "      <td>NaN</td>\n",
       "      <td>NaN</td>\n",
       "      <td>NaN</td>\n",
       "      <td>NaN</td>\n",
       "      <td>NaN</td>\n",
       "      <td>NaN</td>\n",
       "      <td>NaN</td>\n",
       "      <td>NaN</td>\n",
       "      <td>NaN</td>\n",
       "      <td>NaN</td>\n",
       "    </tr>\n",
       "    <tr>\n",
       "      <th>2</th>\n",
       "      <td>spam\\tFree entry in 2 a wkly comp to win FA Cu...</td>\n",
       "      <td>NaN</td>\n",
       "      <td>NaN</td>\n",
       "      <td>NaN</td>\n",
       "      <td>NaN</td>\n",
       "      <td>NaN</td>\n",
       "      <td>NaN</td>\n",
       "      <td>NaN</td>\n",
       "      <td>NaN</td>\n",
       "      <td>NaN</td>\n",
       "      <td>NaN</td>\n",
       "      <td>NaN</td>\n",
       "      <td>NaN</td>\n",
       "      <td>NaN</td>\n",
       "    </tr>\n",
       "    <tr>\n",
       "      <th>3</th>\n",
       "      <td>ham\\tU dun say so early hor... U c already the...</td>\n",
       "      <td>NaN</td>\n",
       "      <td>NaN</td>\n",
       "      <td>NaN</td>\n",
       "      <td>NaN</td>\n",
       "      <td>NaN</td>\n",
       "      <td>NaN</td>\n",
       "      <td>NaN</td>\n",
       "      <td>NaN</td>\n",
       "      <td>NaN</td>\n",
       "      <td>NaN</td>\n",
       "      <td>NaN</td>\n",
       "      <td>NaN</td>\n",
       "      <td>NaN</td>\n",
       "    </tr>\n",
       "    <tr>\n",
       "      <th>4</th>\n",
       "      <td>ham\\tNah I don't think he goes to usf</td>\n",
       "      <td>he lives around here though</td>\n",
       "      <td>NaN</td>\n",
       "      <td>NaN</td>\n",
       "      <td>NaN</td>\n",
       "      <td>NaN</td>\n",
       "      <td>NaN</td>\n",
       "      <td>NaN</td>\n",
       "      <td>NaN</td>\n",
       "      <td>NaN</td>\n",
       "      <td>NaN</td>\n",
       "      <td>NaN</td>\n",
       "      <td>NaN</td>\n",
       "      <td>NaN</td>\n",
       "    </tr>\n",
       "    <tr>\n",
       "      <th>...</th>\n",
       "      <td>...</td>\n",
       "      <td>...</td>\n",
       "      <td>...</td>\n",
       "      <td>...</td>\n",
       "      <td>...</td>\n",
       "      <td>...</td>\n",
       "      <td>...</td>\n",
       "      <td>...</td>\n",
       "      <td>...</td>\n",
       "      <td>...</td>\n",
       "      <td>...</td>\n",
       "      <td>...</td>\n",
       "      <td>...</td>\n",
       "      <td>...</td>\n",
       "    </tr>\n",
       "    <tr>\n",
       "      <th>5569</th>\n",
       "      <td>spam\\tThis is the 2nd time we have tried 2 con...</td>\n",
       "      <td>call 087187272008 NOW1! Only 10p per minute. ...</td>\n",
       "      <td>NaN</td>\n",
       "      <td>NaN</td>\n",
       "      <td>NaN</td>\n",
       "      <td>NaN</td>\n",
       "      <td>NaN</td>\n",
       "      <td>NaN</td>\n",
       "      <td>NaN</td>\n",
       "      <td>NaN</td>\n",
       "      <td>NaN</td>\n",
       "      <td>NaN</td>\n",
       "      <td>NaN</td>\n",
       "      <td>NaN</td>\n",
       "    </tr>\n",
       "    <tr>\n",
       "      <th>5570</th>\n",
       "      <td>ham\\tWill Ã¼ b going to esplanade fr home?</td>\n",
       "      <td>NaN</td>\n",
       "      <td>NaN</td>\n",
       "      <td>NaN</td>\n",
       "      <td>NaN</td>\n",
       "      <td>NaN</td>\n",
       "      <td>NaN</td>\n",
       "      <td>NaN</td>\n",
       "      <td>NaN</td>\n",
       "      <td>NaN</td>\n",
       "      <td>NaN</td>\n",
       "      <td>NaN</td>\n",
       "      <td>NaN</td>\n",
       "      <td>NaN</td>\n",
       "    </tr>\n",
       "    <tr>\n",
       "      <th>5571</th>\n",
       "      <td>ham\\tPity</td>\n",
       "      <td>* was in mood for that. So...any other sugges...</td>\n",
       "      <td>NaN</td>\n",
       "      <td>NaN</td>\n",
       "      <td>NaN</td>\n",
       "      <td>NaN</td>\n",
       "      <td>NaN</td>\n",
       "      <td>NaN</td>\n",
       "      <td>NaN</td>\n",
       "      <td>NaN</td>\n",
       "      <td>NaN</td>\n",
       "      <td>NaN</td>\n",
       "      <td>NaN</td>\n",
       "      <td>NaN</td>\n",
       "    </tr>\n",
       "    <tr>\n",
       "      <th>5572</th>\n",
       "      <td>ham\\tThe guy did some bitching but I acted lik...</td>\n",
       "      <td>NaN</td>\n",
       "      <td>NaN</td>\n",
       "      <td>NaN</td>\n",
       "      <td>NaN</td>\n",
       "      <td>NaN</td>\n",
       "      <td>NaN</td>\n",
       "      <td>NaN</td>\n",
       "      <td>NaN</td>\n",
       "      <td>NaN</td>\n",
       "      <td>NaN</td>\n",
       "      <td>NaN</td>\n",
       "      <td>NaN</td>\n",
       "      <td>NaN</td>\n",
       "    </tr>\n",
       "    <tr>\n",
       "      <th>5573</th>\n",
       "      <td>ham\\tRofl. Its true to its name</td>\n",
       "      <td>NaN</td>\n",
       "      <td>NaN</td>\n",
       "      <td>NaN</td>\n",
       "      <td>NaN</td>\n",
       "      <td>NaN</td>\n",
       "      <td>NaN</td>\n",
       "      <td>NaN</td>\n",
       "      <td>NaN</td>\n",
       "      <td>NaN</td>\n",
       "      <td>NaN</td>\n",
       "      <td>NaN</td>\n",
       "      <td>NaN</td>\n",
       "      <td>NaN</td>\n",
       "    </tr>\n",
       "  </tbody>\n",
       "</table>\n",
       "<p>5574 rows × 14 columns</p>\n",
       "</div>"
      ],
      "text/plain": [
       "                                                     0   \\\n",
       "0                            ham\\tGo until jurong point   \n",
       "1                    ham\\tOk lar... Joking wif u oni...   \n",
       "2     spam\\tFree entry in 2 a wkly comp to win FA Cu...   \n",
       "3     ham\\tU dun say so early hor... U c already the...   \n",
       "4                 ham\\tNah I don't think he goes to usf   \n",
       "...                                                 ...   \n",
       "5569  spam\\tThis is the 2nd time we have tried 2 con...   \n",
       "5570         ham\\tWill Ã¼ b going to esplanade fr home?   \n",
       "5571                                          ham\\tPity   \n",
       "5572  ham\\tThe guy did some bitching but I acted lik...   \n",
       "5573                    ham\\tRofl. Its true to its name   \n",
       "\n",
       "                                                     1    2    3    4    5   \\\n",
       "0      crazy.. Available only in bugis n great world...  NaN  NaN  NaN  NaN   \n",
       "1                                                   NaN  NaN  NaN  NaN  NaN   \n",
       "2                                                   NaN  NaN  NaN  NaN  NaN   \n",
       "3                                                   NaN  NaN  NaN  NaN  NaN   \n",
       "4                           he lives around here though  NaN  NaN  NaN  NaN   \n",
       "...                                                 ...  ...  ...  ...  ...   \n",
       "5569   call 087187272008 NOW1! Only 10p per minute. ...  NaN  NaN  NaN  NaN   \n",
       "5570                                                NaN  NaN  NaN  NaN  NaN   \n",
       "5571   * was in mood for that. So...any other sugges...  NaN  NaN  NaN  NaN   \n",
       "5572                                                NaN  NaN  NaN  NaN  NaN   \n",
       "5573                                                NaN  NaN  NaN  NaN  NaN   \n",
       "\n",
       "       6    7    8    9    10   11   12   13  \n",
       "0     NaN  NaN  NaN  NaN  NaN  NaN  NaN  NaN  \n",
       "1     NaN  NaN  NaN  NaN  NaN  NaN  NaN  NaN  \n",
       "2     NaN  NaN  NaN  NaN  NaN  NaN  NaN  NaN  \n",
       "3     NaN  NaN  NaN  NaN  NaN  NaN  NaN  NaN  \n",
       "4     NaN  NaN  NaN  NaN  NaN  NaN  NaN  NaN  \n",
       "...   ...  ...  ...  ...  ...  ...  ...  ...  \n",
       "5569  NaN  NaN  NaN  NaN  NaN  NaN  NaN  NaN  \n",
       "5570  NaN  NaN  NaN  NaN  NaN  NaN  NaN  NaN  \n",
       "5571  NaN  NaN  NaN  NaN  NaN  NaN  NaN  NaN  \n",
       "5572  NaN  NaN  NaN  NaN  NaN  NaN  NaN  NaN  \n",
       "5573  NaN  NaN  NaN  NaN  NaN  NaN  NaN  NaN  \n",
       "\n",
       "[5574 rows x 14 columns]"
      ]
     },
     "execution_count": 3,
     "metadata": {},
     "output_type": "execute_result"
    }
   ],
   "source": [
    "sms"
   ]
  },
  {
   "cell_type": "code",
   "execution_count": 4,
   "id": "2bcac4a6-14a8-4477-877d-b850cce388a2",
   "metadata": {},
   "outputs": [
    {
     "ename": "NameError",
     "evalue": "name 'spam' is not defined",
     "output_type": "error",
     "traceback": [
      "\u001b[1;31m---------------------------------------------------------------------------\u001b[0m",
      "\u001b[1;31mNameError\u001b[0m                                 Traceback (most recent call last)",
      "Cell \u001b[1;32mIn[4], line 1\u001b[0m\n\u001b[1;32m----> 1\u001b[0m spam\u001b[38;5;241m.\u001b[39mdescribe()\n",
      "\u001b[1;31mNameError\u001b[0m: name 'spam' is not defined"
     ]
    }
   ],
   "source": [
    "spam.describe()"
   ]
  },
  {
   "cell_type": "code",
   "execution_count": null,
   "id": "974a6289-db78-46b1-9afd-cd833bbf4a97",
   "metadata": {},
   "outputs": [],
   "source": [
    "spam.info()"
   ]
  },
  {
   "cell_type": "code",
   "execution_count": null,
   "id": "78f52814-f117-43f2-9a4d-af3ad782054a",
   "metadata": {},
   "outputs": [],
   "source": [
    "sms.columns"
   ]
  },
  {
   "cell_type": "code",
   "execution_count": null,
   "id": "887ba37b-cc66-466d-af61-aafb14686d20",
   "metadata": {},
   "outputs": [],
   "source": [
    "sms.drop([1, 2, 3, 4, 5, 6, 7, 8, 9, 10, 11, 12, 13],axis=1, inplace=True)"
   ]
  },
  {
   "cell_type": "code",
   "execution_count": null,
   "id": "008eeeec-3161-4555-8db0-60753eae7774",
   "metadata": {},
   "outputs": [],
   "source": [
    "sms"
   ]
  },
  {
   "cell_type": "code",
   "execution_count": null,
   "id": "764576ae-cc52-4c83-a749-1eed0ef19f55",
   "metadata": {},
   "outputs": [],
   "source": [
    "sms [['Label', 'Message']] = sms[0].str.split('\\t',expand=True)"
   ]
  },
  {
   "cell_type": "code",
   "execution_count": null,
   "id": "8521d62c-5a70-4977-a3ba-2b8aebd9db2b",
   "metadata": {},
   "outputs": [],
   "source": [
    "sms"
   ]
  },
  {
   "cell_type": "code",
   "execution_count": null,
   "id": "8dcb757d-0a49-4e8e-93a7-cadb34ce5b9c",
   "metadata": {
    "scrolled": true
   },
   "outputs": [],
   "source": [
    "sms.drop(0,axis=1,inplace= True)"
   ]
  },
  {
   "cell_type": "code",
   "execution_count": null,
   "id": "6ed19055-8d47-429e-9bb1-6873d9a68df3",
   "metadata": {},
   "outputs": [],
   "source": [
    "sms"
   ]
  },
  {
   "cell_type": "code",
   "execution_count": null,
   "id": "0d409b53-bbfe-446f-9e6b-a677064da551",
   "metadata": {},
   "outputs": [],
   "source": [
    "import re  #it is a library for dealing with numbers\n",
    "import string"
   ]
  },
  {
   "cell_type": "code",
   "execution_count": null,
   "id": "17d760c2-66af-4fa6-b26f-e27339377682",
   "metadata": {},
   "outputs": [],
   "source": [
    "def clean_mess(message):\n",
    "    text = message.lower()\n",
    "    text = re.sub(r'\\d+','',text)\n",
    "    text= text.strip()\n",
    "    return text"
   ]
  },
  {
   "cell_type": "code",
   "execution_count": null,
   "id": "8ed23216-d1b1-40bb-b17c-19d211799c66",
   "metadata": {},
   "outputs": [],
   "source": [
    "clean_mess('OTHELLO is a bad boy 34')"
   ]
  },
  {
   "cell_type": "code",
   "execution_count": null,
   "id": "c14e955c-b92f-41f5-a952-f018fc19696d",
   "metadata": {},
   "outputs": [],
   "source": [
    "sms['Message'].apply(clean_mess)"
   ]
  },
  {
   "cell_type": "code",
   "execution_count": null,
   "id": "a5369263-c933-4d40-b626-7b47eff4f4e6",
   "metadata": {},
   "outputs": [],
   "source": [
    "sms['Clean Message'] = sms['Message'].apply(clean_mess)\n",
    "sms"
   ]
  },
  {
   "cell_type": "code",
   "execution_count": null,
   "id": "242ded8a-c75e-4a17-bdb5-e5ad547179ce",
   "metadata": {},
   "outputs": [],
   "source": [
    "y = sms['Label']"
   ]
  },
  {
   "cell_type": "code",
   "execution_count": null,
   "id": "f296eeea-2df7-4cd9-a397-256276d667da",
   "metadata": {},
   "outputs": [],
   "source": [
    "x = sms['Clean Message']"
   ]
  },
  {
   "cell_type": "code",
   "execution_count": null,
   "id": "0bc97088-4fbd-4931-9b29-9a34937dc358",
   "metadata": {},
   "outputs": [],
   "source": [
    "from sklearn.model_selection import train_test_split\n",
    "from sklearn.linear_model import LogisticRegression\n",
    "from sklearn.feature_extraction.text import TfidfVectorizer"
   ]
  },
  {
   "cell_type": "code",
   "execution_count": null,
   "id": "289fbc2e-81c3-4a1d-a15f-9a1437c72dbd",
   "metadata": {},
   "outputs": [],
   "source": [
    "# x_train, x_test, y_train, y_test = train_test_split(x,y,test_size=0.3, random_state=101)"
   ]
  },
  {
   "cell_type": "code",
   "execution_count": null,
   "id": "3f472d02-f34a-47b5-88db-f6ae728005b8",
   "metadata": {},
   "outputs": [],
   "source": [
    "vc = TfidfVectorizer(stop_words=\"english\",max_features=5000)"
   ]
  },
  {
   "cell_type": "code",
   "execution_count": null,
   "id": "41b978cf-0611-4331-bcbd-ae27cfa57080",
   "metadata": {},
   "outputs": [],
   "source": [
    "x = vc.fit_transform(x)\n",
    "x"
   ]
  },
  {
   "cell_type": "code",
   "execution_count": null,
   "id": "5410f3ef-a0b9-4a21-a485-3edd5af824f5",
   "metadata": {},
   "outputs": [],
   "source": [
    "y"
   ]
  },
  {
   "cell_type": "code",
   "execution_count": null,
   "id": "07e8f622-4503-4b5c-997c-9a0081f4d1ce",
   "metadata": {},
   "outputs": [],
   "source": [
    "x_train, x_test, y_train, y_test = train_test_split(x,y,test_size=0.3, random_state=42)"
   ]
  },
  {
   "cell_type": "code",
   "execution_count": null,
   "id": "42927ab7-f76d-4210-af98-b8393503fef9",
   "metadata": {},
   "outputs": [],
   "source": [
    "log = LogisticRegression()"
   ]
  },
  {
   "cell_type": "code",
   "execution_count": null,
   "id": "24eb146a-012c-4f2d-9b0a-0221845f425a",
   "metadata": {},
   "outputs": [],
   "source": [
    "log.fit(x_train, y_train)"
   ]
  },
  {
   "cell_type": "code",
   "execution_count": null,
   "id": "8958ef16-4732-4e74-a14b-0f4a54406158",
   "metadata": {},
   "outputs": [],
   "source": [
    "predictions = log.predict(x_test)"
   ]
  },
  {
   "cell_type": "code",
   "execution_count": null,
   "id": "6b991f1a-334a-4083-b46f-5439f28538a4",
   "metadata": {},
   "outputs": [],
   "source": [
    "from sklearn import metrics"
   ]
  },
  {
   "cell_type": "code",
   "execution_count": null,
   "id": "adcfda01-a4a2-426c-88ce-4f1ead5140fa",
   "metadata": {},
   "outputs": [],
   "source": [
    "print(metrics.confusion_matrix(y_test,predictions))\n",
    "print(metrics.classification_report(y_test,predictions))"
   ]
  },
  {
   "cell_type": "code",
   "execution_count": null,
   "id": "69d2a9ce-595c-4a28-b824-2e65f9e92eeb",
   "metadata": {},
   "outputs": [],
   "source": [
    "def predict(message):\n",
    "    clean_message = clean_mess(message)\n",
    "    transform_message = vc.fit([clean_message])\n",
    "    prediction = log.predict(transform_message)"
   ]
  }
 ],
 "metadata": {
  "kernelspec": {
   "display_name": "Python 3 (ipykernel)",
   "language": "python",
   "name": "python3"
  },
  "language_info": {
   "codemirror_mode": {
    "name": "ipython",
    "version": 3
   },
   "file_extension": ".py",
   "mimetype": "text/x-python",
   "name": "python",
   "nbconvert_exporter": "python",
   "pygments_lexer": "ipython3",
   "version": "3.12.4"
  }
 },
 "nbformat": 4,
 "nbformat_minor": 5
}
